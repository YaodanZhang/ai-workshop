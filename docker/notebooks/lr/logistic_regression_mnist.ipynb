{
 "cells": [
  {
   "cell_type": "markdown",
   "metadata": {},
   "source": [
    "# Example with Mnist"
   ]
  },
  {
   "cell_type": "code",
   "execution_count": 1,
   "metadata": {
    "collapsed": false
   },
   "outputs": [
    {
     "name": "stdout",
     "output_type": "stream",
     "text": [
      "Extracting /Users/twcn/work/datasets/mnist/train-images-idx3-ubyte.gz\n",
      "Extracting /Users/twcn/work/datasets/mnist/train-labels-idx1-ubyte.gz\n",
      "Extracting /Users/twcn/work/datasets/mnist/t10k-images-idx3-ubyte.gz\n",
      "Extracting /Users/twcn/work/datasets/mnist/t10k-labels-idx1-ubyte.gz\n"
     ]
    }
   ],
   "source": [
    "from __future__ import print_function\n",
    "import tensorflow as tf\n",
    "# 导入数据集\n",
    "from tensorflow.examples.tutorials.mnist import input_data\n",
    "mnist = input_data.read_data_sets(\"/Users/twcn/work/datasets/mnist\", one_hot=True)"
   ]
  },
  {
   "cell_type": "code",
   "execution_count": 2,
   "metadata": {
    "collapsed": true
   },
   "outputs": [],
   "source": [
    "\n",
    "# 参数\n",
    "learning_rate = 0.01 # 梯度下降\n",
    "training_epochs = 25 # 迭代轮数\n",
    "batch_size = 100 # 批次训练数据集大小\n",
    "display_step = 1\n",
    "\n",
    "# tf图输入\n",
    "x = tf.placeholder(tf.float32, [None, 784]) # mnist 数据集图片大小为28*28=784\n",
    "y = tf.placeholder(tf.float32, [None, 10]) # 识别0-9的数据，一共10个类别\n",
    "\n",
    "# 设置模型权重\n",
    "W = tf.Variable(tf.zeros([784, 10]))\n",
    "b = tf.Variable(tf.zeros([10]))\n",
    "\n",
    "# 构造模型\n",
    "pred = tf.nn.softmax(tf.matmul(x, W) + b) # Softmax"
   ]
  },
  {
   "cell_type": "code",
   "execution_count": 3,
   "metadata": {
    "collapsed": true
   },
   "outputs": [],
   "source": [
    "\n",
    "# 损失函数：交叉墒\n",
    "cost = tf.reduce_mean(-tf.reduce_sum(y*tf.log(pred), reduction_indices=1))\n",
    "# 使用梯度下降算法寻找最优解\n",
    "optimizer = tf.train.GradientDescentOptimizer(learning_rate).minimize(cost)\n",
    "\n",
    "# 初始化所有变量\n",
    "init = tf.initialize_all_variables()"
   ]
  },
  {
   "cell_type": "code",
   "execution_count": null,
   "metadata": {
    "collapsed": true
   },
   "outputs": [],
   "source": []
  },
  {
   "cell_type": "code",
   "execution_count": 4,
   "metadata": {
    "collapsed": false
   },
   "outputs": [
    {
     "name": "stdout",
     "output_type": "stream",
     "text": [
      "Epoch: 0001 cost= 1.182138985\n",
      "Epoch: 0002 cost= 0.664748106\n",
      "Epoch: 0003 cost= 0.552678659\n",
      "Epoch: 0004 cost= 0.498571912\n",
      "Epoch: 0005 cost= 0.465436806\n",
      "Epoch: 0006 cost= 0.442503687\n",
      "Epoch: 0007 cost= 0.425476255\n",
      "Epoch: 0008 cost= 0.412128747\n",
      "Epoch: 0009 cost= 0.401413213\n",
      "Epoch: 0010 cost= 0.392347235\n",
      "Epoch: 0011 cost= 0.384734413\n",
      "Epoch: 0012 cost= 0.378194818\n",
      "Epoch: 0013 cost= 0.372417605\n",
      "Epoch: 0014 cost= 0.367270420\n",
      "Epoch: 0015 cost= 0.362728505\n",
      "Epoch: 0016 cost= 0.358625606\n",
      "Epoch: 0017 cost= 0.354871881\n",
      "Epoch: 0018 cost= 0.351434962\n",
      "Epoch: 0019 cost= 0.348291699\n",
      "Epoch: 0020 cost= 0.345421539\n",
      "Epoch: 0021 cost= 0.342722933\n",
      "Epoch: 0022 cost= 0.340236624\n",
      "Epoch: 0023 cost= 0.337928260\n",
      "Epoch: 0024 cost= 0.335704254\n",
      "Epoch: 0025 cost= 0.333695560\n",
      "Optimization Finished!\n",
      "Accuracy: 0.9134\n"
     ]
    }
   ],
   "source": [
    "# 启动tf图\n",
    "with tf.Session() as sess:\n",
    "    sess.run(init)\n",
    "\n",
    "    # 迭代训练\n",
    "    for epoch in range(training_epochs):\n",
    "        avg_cost = 0.\n",
    "        total_batch = int(mnist.train.num_examples/batch_size)\n",
    "        # 训练训练所有批次数据\n",
    "        for i in range(total_batch):\n",
    "            batch_xs, batch_ys = mnist.train.next_batch(batch_size)\n",
    "            # 运行优化操作和损失函数计算操作，获取损失值\n",
    "            _, c = sess.run([optimizer, cost], feed_dict={x: batch_xs,\n",
    "                                                          y: batch_ys})\n",
    "            # 计算平均损失\n",
    "            avg_cost += c / total_batch\n",
    "        # 打印显示\n",
    "        if (epoch+1) % display_step == 0:\n",
    "            print(\"Epoch:\", '%04d' % (epoch+1), \"cost=\", \"{:.9f}\".format(avg_cost))\n",
    "\n",
    "    print(\"Optimization Finished!\")\n",
    "\n",
    "    # 测试模型\n",
    "    correct_prediction = tf.equal(tf.argmax(pred, 1), tf.argmax(y, 1))\n",
    "    # 计算准确度\n",
    "    accuracy = tf.reduce_mean(tf.cast(correct_prediction, tf.float32))\n",
    "    print(\"Accuracy:\", accuracy.eval({x: mnist.test.images, y: mnist.test.labels}))"
   ]
  }
 ],
 "metadata": {
  "kernelspec": {
   "display_name": "Python 3",
   "language": "python",
   "name": "python3"
  },
  "language_info": {
   "codemirror_mode": {
    "name": "ipython",
    "version": 3
   },
   "file_extension": ".py",
   "mimetype": "text/x-python",
   "name": "python",
   "nbconvert_exporter": "python",
   "pygments_lexer": "ipython3",
   "version": "3.5.1"
  }
 },
 "nbformat": 4,
 "nbformat_minor": 0
}
